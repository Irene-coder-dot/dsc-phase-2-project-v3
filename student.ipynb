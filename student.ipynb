{
 "cells": [
  {
   "cell_type": "markdown",
   "metadata": {},
   "source": [
    "## Final Project Submission\n",
    "\n",
    "Please fill out:\n",
    "* Student name: \n",
    "* Student pace: self paced / part time / full time\n",
    "* Scheduled project review date/time: \n",
    "* Instructor name: \n",
    "* Blog post URL:\n"
   ]
  },
  {
   "cell_type": "markdown",
   "metadata": {},
   "source": [
    "# 1. BUSINESS UNDERSTANDING \n",
    "## Business Problem\n",
    "\n",
    "The entertainment industry is undergoing rapid transformation, with original content emerging as a key driver of audience engagement and revenue growth. Major players like Netflix, Amazon, and other sources are heavily investing in original films —reaping substantial financial returns and strengthening their brand presence.\n",
    "Recognizing this trend, Flix company has made the strategic decision to launch a new movie studio. However, it currently lacks the data-driven insights necessary to understand what factors contribute to a film’s box office success.\n",
    "As data scientists, our role is to explore publicly available movie performance data to uncover patterns that indicates\n",
    "what makes a movie financially successful. The goal is to provide clear data- driven, actionable recommendations that will help guide decisions about genre, budget size, release timing, and other production choices.\n",
    "\n",
    "\n",
    "\n",
    "## Stakeholders and Use Cases\n",
    "Primary Stakeholder:\n",
    "Head of the New Movie Studio\n",
    "\n",
    "Use Case:\n",
    "Leverage data-driven insights to inform strategic decisions on film production. This includes identifying high-performing genres, determining optimal budget ranges, selecting ideal release windows, and shaping casting strategies—all aimed at maximizing box office success and return on investment.\n",
    "\n",
    "## Project Objectives\n",
    "* Identify which genres perform best at the box office, considering revenue and profitability.\n",
    "\n",
    "* Analyze the impact of budget, runtime, cast, and release month on a film’s success.\n",
    "\n",
    "* Provide actionable recommendations for the types of films the company should produce.\n",
    "\n",
    "## Conclusion: Implications and Recommendations\n",
    "\n",
    "This project provides a data-driven foundation to support the successful launch of Flix company’s new movie studio while reducing financial risk. By uncovering the key factors that correlate with box office success, the Head of Studio is equipped to make informed, strategic decisions, including:\n",
    "\n",
    "* Genre Selection: Focus on genres with a strong track record of performance.\n",
    "\n",
    "* Budget Planning: Allocate production budgets based on historically successful investment ranges.\n",
    "\n",
    "* Release Strategy: Optimize release timing to align with peak audience engagement periods.\n",
    "\n",
    "* Talent Strategy: Identify the cast and crew characteristics commonly linked to high-grossing films.\n",
    "\n"
   ]
  },
  {
   "cell_type": "markdown",
   "metadata": {},
   "source": [
    "# 2. DATA UNDERSTANDING\n",
    "\n",
    "## Data Sources\n",
    "\n",
    "This project uses data from three high-quality, complementary sources of movie data:\n",
    "\n",
    "### 1. Box Office Mojo (bom.movie_gross.csv.gz)\n",
    "\n",
    "Provides domestic box office revenue data.\n",
    "\n",
    "Includes key features such as: title, studio, domestic_gross, release_date, and year.\n",
    "\n",
    "used to determine the financial performance of films.\n",
    "\n",
    " ### 2. TheMovieDB (TMDb) (tmdb.movies.csv.gz)\n",
    "\n",
    "TheMovieDb entails the following:\n",
    "* User-generated popularity \n",
    "* voting data\n",
    "\n",
    "Key features: title, popularity, vote_average, vote_count, release_date, genres, budget, revenue\n",
    "\n",
    "Purpose: Complements Box Office Mojo and IMDb with:\n",
    "\n",
    "Popularity metrics: Show which films gain audience traction pre- and post-release\n",
    "\n",
    "Vote data: Allows cross-comparison with IMDb ratings\n",
    "\n",
    "### 3. IMDb(Internet Movie Database) (im.db.zip)\n",
    "\n",
    "Contains detailed metadata about films and user-ratings.\n",
    "\n",
    "Key tables used:\n",
    "\n",
    "* movie_basics: Includes primary_title, original_title, genres, runtime_minutes, and start_year.\n",
    "\n",
    "* movie_ratings: Contains user rating data (average_rating, num_votes).\n",
    "\n",
    "used for movie characteristics and audience quality perceptions.\n",
    "\n",
    "\n",
    "### 4. The Numbers (tn.movie_budgets.csv.gz)\n",
    "\n",
    "It consits of  Film production budgets and worldwide gross\n",
    "\n",
    "Key Features:\n",
    "\n",
    "* Release_date, movie, production_budget, domestic_gross, worldwide_gross\n",
    "\n",
    "Why It Matters:\n",
    "\n",
    "* Gives a complete financial picture by providing both the cost of making the film (production budget) and revenue generated globally.\n",
    "\n",
    "* Allows calculation of Return on Investment (ROI) — one of the most important metrics when deciding which types of films to produce.\n"
   ]
  },
  {
   "cell_type": "markdown",
   "metadata": {},
   "source": [
    "# 3. DATA PREPARATION\n",
    "\n",
    "To determine which types of films perform best at the box office, it is essential to integrate and clean datasets from Box Office Mojo, IMDb, and The Movie Database (TMDb). The following section outlines the data preparation process, including code examples and explanations for each step.\n",
    "\n",
    "## Loading and inspecting the Raw data \n",
    "\n",
    "Befoe we load our datasets , we will import libraries which we will use.\n"
   ]
  },
  {
   "cell_type": "code",
   "execution_count": 523,
   "metadata": {},
   "outputs": [],
   "source": [
    "# Importing necessary libraries\n",
    "import pandas as pd \n",
    "import matplotlib.pyplot as plt\n",
    "import seaborn as sns \n",
    "import sqlite3\n",
    "import zipfile\n"
   ]
  },
  {
   "cell_type": "markdown",
   "metadata": {},
   "source": [
    "The next step would be to load our datasets and see what it entails ."
   ]
  },
  {
   "cell_type": "code",
   "execution_count": 524,
   "metadata": {},
   "outputs": [
    {
     "data": {
      "text/html": [
       "<div>\n",
       "<style scoped>\n",
       "    .dataframe tbody tr th:only-of-type {\n",
       "        vertical-align: middle;\n",
       "    }\n",
       "\n",
       "    .dataframe tbody tr th {\n",
       "        vertical-align: top;\n",
       "    }\n",
       "\n",
       "    .dataframe thead th {\n",
       "        text-align: right;\n",
       "    }\n",
       "</style>\n",
       "<table border=\"1\" class=\"dataframe\">\n",
       "  <thead>\n",
       "    <tr style=\"text-align: right;\">\n",
       "      <th></th>\n",
       "      <th>title</th>\n",
       "      <th>studio</th>\n",
       "      <th>domestic_gross</th>\n",
       "      <th>foreign_gross</th>\n",
       "      <th>year</th>\n",
       "    </tr>\n",
       "  </thead>\n",
       "  <tbody>\n",
       "    <tr>\n",
       "      <th>0</th>\n",
       "      <td>Toy Story 3</td>\n",
       "      <td>BV</td>\n",
       "      <td>415000000.0</td>\n",
       "      <td>652000000</td>\n",
       "      <td>2010</td>\n",
       "    </tr>\n",
       "    <tr>\n",
       "      <th>1</th>\n",
       "      <td>Alice in Wonderland (2010)</td>\n",
       "      <td>BV</td>\n",
       "      <td>334200000.0</td>\n",
       "      <td>691300000</td>\n",
       "      <td>2010</td>\n",
       "    </tr>\n",
       "    <tr>\n",
       "      <th>2</th>\n",
       "      <td>Harry Potter and the Deathly Hallows Part 1</td>\n",
       "      <td>WB</td>\n",
       "      <td>296000000.0</td>\n",
       "      <td>664300000</td>\n",
       "      <td>2010</td>\n",
       "    </tr>\n",
       "    <tr>\n",
       "      <th>3</th>\n",
       "      <td>Inception</td>\n",
       "      <td>WB</td>\n",
       "      <td>292600000.0</td>\n",
       "      <td>535700000</td>\n",
       "      <td>2010</td>\n",
       "    </tr>\n",
       "    <tr>\n",
       "      <th>4</th>\n",
       "      <td>Shrek Forever After</td>\n",
       "      <td>P/DW</td>\n",
       "      <td>238700000.0</td>\n",
       "      <td>513900000</td>\n",
       "      <td>2010</td>\n",
       "    </tr>\n",
       "  </tbody>\n",
       "</table>\n",
       "</div>"
      ],
      "text/plain": [
       "                                         title studio  domestic_gross  \\\n",
       "0                                  Toy Story 3     BV     415000000.0   \n",
       "1                   Alice in Wonderland (2010)     BV     334200000.0   \n",
       "2  Harry Potter and the Deathly Hallows Part 1     WB     296000000.0   \n",
       "3                                    Inception     WB     292600000.0   \n",
       "4                          Shrek Forever After   P/DW     238700000.0   \n",
       "\n",
       "  foreign_gross  year  \n",
       "0     652000000  2010  \n",
       "1     691300000  2010  \n",
       "2     664300000  2010  \n",
       "3     535700000  2010  \n",
       "4     513900000  2010  "
      ]
     },
     "execution_count": 524,
     "metadata": {},
     "output_type": "execute_result"
    }
   ],
   "source": [
    "# loading the dataset of Box Office Mojo\n",
    "box_office_mojo= pd.read_csv('zippedData/bom.movie_gross.csv/bom.movie_gross.csv')\n",
    "# displays the first few rows \n",
    "box_office_mojo.head()\n"
   ]
  },
  {
   "cell_type": "markdown",
   "metadata": {},
   "source": [
    "The dataset contains the domestic office box revenue which we will use as the target variable.  \n",
    "We'll filter for movies only (not re-releases or limited runs), and ensure all rows have valid gross data."
   ]
  },
  {
   "cell_type": "markdown",
   "metadata": {},
   "source": [
    "The IMDB database consists of :\n",
    "movie_basics: includes metadata like genres, runtime_minutes, and start_year.\n",
    "\n",
    "movie_ratings: includes average_rating and num_votes.\n",
    "\n",
    "These are used to describe each film and estimate perceived quality and popularity."
   ]
  },
  {
   "cell_type": "code",
   "execution_count": 525,
   "metadata": {},
   "outputs": [],
   "source": [
    "# Loading the sqlite database of IMDB\n",
    "# Connecting to sqlite IMDB database\n",
    "# Step 1: Extract the .db file from the zip archive\n",
    "with zipfile.ZipFile('zippedData\\im.db.zip', 'r') as zip_ref:\n",
    "     zip_ref.extractall('zippedData')  # This will extract im.db into zippedData/\n",
    "\n",
    "# Step 2: Connect to the extracted SQLite database\n",
    "conn = sqlite3.connect('zippedData\\im.db')\n",
    "\n",
    "# Fetch all table names\n",
    "query = \"SELECT name FROM sqlite_master WHERE type='table';\"\n",
    "tables = pd.read_sql(query, conn)\n",
    "tables\n",
    "# #\n",
    "\n",
    "pd.read_sql(\"SELECT name FROM sqlite_master WHERE type='table';\", conn)\n",
    "\n",
    "# # Step 3: Load tables into pandas DataFrames\n",
    "basics = pd.read_sql('SELECT * FROM movie_basics', conn)\n",
    "ratings = pd.read_sql('SELECT * FROM movie_ratings', conn)\n",
    " # Close connection\n",
    "#conn.close()"
   ]
  },
  {
   "cell_type": "code",
   "execution_count": 526,
   "metadata": {},
   "outputs": [
    {
     "data": {
      "text/html": [
       "<div>\n",
       "<style scoped>\n",
       "    .dataframe tbody tr th:only-of-type {\n",
       "        vertical-align: middle;\n",
       "    }\n",
       "\n",
       "    .dataframe tbody tr th {\n",
       "        vertical-align: top;\n",
       "    }\n",
       "\n",
       "    .dataframe thead th {\n",
       "        text-align: right;\n",
       "    }\n",
       "</style>\n",
       "<table border=\"1\" class=\"dataframe\">\n",
       "  <thead>\n",
       "    <tr style=\"text-align: right;\">\n",
       "      <th></th>\n",
       "      <th>genre_ids</th>\n",
       "      <th>id</th>\n",
       "      <th>original_language</th>\n",
       "      <th>original_title</th>\n",
       "      <th>popularity</th>\n",
       "      <th>release_date</th>\n",
       "      <th>title</th>\n",
       "      <th>vote_average</th>\n",
       "      <th>vote_count</th>\n",
       "    </tr>\n",
       "  </thead>\n",
       "  <tbody>\n",
       "    <tr>\n",
       "      <th>0</th>\n",
       "      <td>[12, 14, 10751]</td>\n",
       "      <td>12444</td>\n",
       "      <td>en</td>\n",
       "      <td>Harry Potter and the Deathly Hallows: Part 1</td>\n",
       "      <td>33.533</td>\n",
       "      <td>2010-11-19</td>\n",
       "      <td>Harry Potter and the Deathly Hallows: Part 1</td>\n",
       "      <td>7.7</td>\n",
       "      <td>10788</td>\n",
       "    </tr>\n",
       "    <tr>\n",
       "      <th>1</th>\n",
       "      <td>[14, 12, 16, 10751]</td>\n",
       "      <td>10191</td>\n",
       "      <td>en</td>\n",
       "      <td>How to Train Your Dragon</td>\n",
       "      <td>28.734</td>\n",
       "      <td>2010-03-26</td>\n",
       "      <td>How to Train Your Dragon</td>\n",
       "      <td>7.7</td>\n",
       "      <td>7610</td>\n",
       "    </tr>\n",
       "    <tr>\n",
       "      <th>2</th>\n",
       "      <td>[12, 28, 878]</td>\n",
       "      <td>10138</td>\n",
       "      <td>en</td>\n",
       "      <td>Iron Man 2</td>\n",
       "      <td>28.515</td>\n",
       "      <td>2010-05-07</td>\n",
       "      <td>Iron Man 2</td>\n",
       "      <td>6.8</td>\n",
       "      <td>12368</td>\n",
       "    </tr>\n",
       "    <tr>\n",
       "      <th>3</th>\n",
       "      <td>[16, 35, 10751]</td>\n",
       "      <td>862</td>\n",
       "      <td>en</td>\n",
       "      <td>Toy Story</td>\n",
       "      <td>28.005</td>\n",
       "      <td>1995-11-22</td>\n",
       "      <td>Toy Story</td>\n",
       "      <td>7.9</td>\n",
       "      <td>10174</td>\n",
       "    </tr>\n",
       "    <tr>\n",
       "      <th>4</th>\n",
       "      <td>[28, 878, 12]</td>\n",
       "      <td>27205</td>\n",
       "      <td>en</td>\n",
       "      <td>Inception</td>\n",
       "      <td>27.920</td>\n",
       "      <td>2010-07-16</td>\n",
       "      <td>Inception</td>\n",
       "      <td>8.3</td>\n",
       "      <td>22186</td>\n",
       "    </tr>\n",
       "  </tbody>\n",
       "</table>\n",
       "</div>"
      ],
      "text/plain": [
       "             genre_ids     id original_language  \\\n",
       "0      [12, 14, 10751]  12444                en   \n",
       "1  [14, 12, 16, 10751]  10191                en   \n",
       "2        [12, 28, 878]  10138                en   \n",
       "3      [16, 35, 10751]    862                en   \n",
       "4        [28, 878, 12]  27205                en   \n",
       "\n",
       "                                 original_title  popularity release_date  \\\n",
       "0  Harry Potter and the Deathly Hallows: Part 1      33.533   2010-11-19   \n",
       "1                      How to Train Your Dragon      28.734   2010-03-26   \n",
       "2                                    Iron Man 2      28.515   2010-05-07   \n",
       "3                                     Toy Story      28.005   1995-11-22   \n",
       "4                                     Inception      27.920   2010-07-16   \n",
       "\n",
       "                                          title  vote_average  vote_count  \n",
       "0  Harry Potter and the Deathly Hallows: Part 1           7.7       10788  \n",
       "1                      How to Train Your Dragon           7.7        7610  \n",
       "2                                    Iron Man 2           6.8       12368  \n",
       "3                                     Toy Story           7.9       10174  \n",
       "4                                     Inception           8.3       22186  "
      ]
     },
     "execution_count": 526,
     "metadata": {},
     "output_type": "execute_result"
    }
   ],
   "source": [
    "# Loading TheMovieDB\n",
    "movie_Db= pd.read_csv('zippedData/tmdb.movies.csv/tmdb.movies.csv',index_col=0 )\n",
    "# Views the first few rows\n",
    "movie_Db.head()\n",
    " #movie_Db.info()\n",
    "# movie_Db.shape"
   ]
  },
  {
   "cell_type": "markdown",
   "metadata": {},
   "source": [
    "TheMovieDb adds user interest indicators (popularity, vote_average, vote_count) and financial info (budget, revenue) not found in the other sources."
   ]
  },
  {
   "cell_type": "code",
   "execution_count": 527,
   "metadata": {},
   "outputs": [
    {
     "data": {
      "text/html": [
       "<div>\n",
       "<style scoped>\n",
       "    .dataframe tbody tr th:only-of-type {\n",
       "        vertical-align: middle;\n",
       "    }\n",
       "\n",
       "    .dataframe tbody tr th {\n",
       "        vertical-align: top;\n",
       "    }\n",
       "\n",
       "    .dataframe thead th {\n",
       "        text-align: right;\n",
       "    }\n",
       "</style>\n",
       "<table border=\"1\" class=\"dataframe\">\n",
       "  <thead>\n",
       "    <tr style=\"text-align: right;\">\n",
       "      <th></th>\n",
       "      <th>id</th>\n",
       "      <th>release_date</th>\n",
       "      <th>movie</th>\n",
       "      <th>production_budget</th>\n",
       "      <th>domestic_gross</th>\n",
       "      <th>worldwide_gross</th>\n",
       "    </tr>\n",
       "  </thead>\n",
       "  <tbody>\n",
       "    <tr>\n",
       "      <th>0</th>\n",
       "      <td>1</td>\n",
       "      <td>Dec 18, 2009</td>\n",
       "      <td>Avatar</td>\n",
       "      <td>$425,000,000</td>\n",
       "      <td>$760,507,625</td>\n",
       "      <td>$2,776,345,279</td>\n",
       "    </tr>\n",
       "    <tr>\n",
       "      <th>1</th>\n",
       "      <td>2</td>\n",
       "      <td>May 20, 2011</td>\n",
       "      <td>Pirates of the Caribbean: On Stranger Tides</td>\n",
       "      <td>$410,600,000</td>\n",
       "      <td>$241,063,875</td>\n",
       "      <td>$1,045,663,875</td>\n",
       "    </tr>\n",
       "    <tr>\n",
       "      <th>2</th>\n",
       "      <td>3</td>\n",
       "      <td>Jun 7, 2019</td>\n",
       "      <td>Dark Phoenix</td>\n",
       "      <td>$350,000,000</td>\n",
       "      <td>$42,762,350</td>\n",
       "      <td>$149,762,350</td>\n",
       "    </tr>\n",
       "    <tr>\n",
       "      <th>3</th>\n",
       "      <td>4</td>\n",
       "      <td>May 1, 2015</td>\n",
       "      <td>Avengers: Age of Ultron</td>\n",
       "      <td>$330,600,000</td>\n",
       "      <td>$459,005,868</td>\n",
       "      <td>$1,403,013,963</td>\n",
       "    </tr>\n",
       "    <tr>\n",
       "      <th>4</th>\n",
       "      <td>5</td>\n",
       "      <td>Dec 15, 2017</td>\n",
       "      <td>Star Wars Ep. VIII: The Last Jedi</td>\n",
       "      <td>$317,000,000</td>\n",
       "      <td>$620,181,382</td>\n",
       "      <td>$1,316,721,747</td>\n",
       "    </tr>\n",
       "  </tbody>\n",
       "</table>\n",
       "</div>"
      ],
      "text/plain": [
       "   id  release_date                                        movie  \\\n",
       "0   1  Dec 18, 2009                                       Avatar   \n",
       "1   2  May 20, 2011  Pirates of the Caribbean: On Stranger Tides   \n",
       "2   3   Jun 7, 2019                                 Dark Phoenix   \n",
       "3   4   May 1, 2015                      Avengers: Age of Ultron   \n",
       "4   5  Dec 15, 2017            Star Wars Ep. VIII: The Last Jedi   \n",
       "\n",
       "  production_budget domestic_gross worldwide_gross  \n",
       "0      $425,000,000   $760,507,625  $2,776,345,279  \n",
       "1      $410,600,000   $241,063,875  $1,045,663,875  \n",
       "2      $350,000,000    $42,762,350    $149,762,350  \n",
       "3      $330,600,000   $459,005,868  $1,403,013,963  \n",
       "4      $317,000,000   $620,181,382  $1,316,721,747  "
      ]
     },
     "execution_count": 527,
     "metadata": {},
     "output_type": "execute_result"
    }
   ],
   "source": [
    "# Load movie budget dataset (TSV format, gzip-compressed)\n",
    "movie_budget = pd.read_csv('zippedData/tn.movie_budgets.csv/tn.movie_budgets.csv') #sep='\\t')\n",
    "\n",
    "# Display the first few rows\n",
    "movie_budget.head()"
   ]
  },
  {
   "cell_type": "markdown",
   "metadata": {},
   "source": [
    "## DATA CLEANING\n",
    "### 1. BOX OFFICE DATASET"
   ]
  },
  {
   "cell_type": "markdown",
   "metadata": {},
   "source": [
    "In this dataset, we will drop the column that we intend not to use which is the the foreign gross column. We intend to find the the financial performance of the movies in this dataset. The methods used to clean this dataset are;(.info(),.describe(),.drop(),.fillna(),.dropna(),.isna(),.duplicates()).\n",
    "This dataset has a total of 3387 rows and 5 columns.\n",
    "It is essential to fill the numerical columns with mean so as to avoid outliers and this will inturn help us generate insights that are not missleading."
   ]
  },
  {
   "cell_type": "code",
   "execution_count": 528,
   "metadata": {},
   "outputs": [
    {
     "name": "stdout",
     "output_type": "stream",
     "text": [
      "<class 'pandas.core.frame.DataFrame'>\n",
      "RangeIndex: 3387 entries, 0 to 3386\n",
      "Data columns (total 5 columns):\n",
      " #   Column          Non-Null Count  Dtype  \n",
      "---  ------          --------------  -----  \n",
      " 0   title           3387 non-null   object \n",
      " 1   studio          3382 non-null   object \n",
      " 2   domestic_gross  3359 non-null   float64\n",
      " 3   foreign_gross   2037 non-null   object \n",
      " 4   year            3387 non-null   int64  \n",
      "dtypes: float64(1), int64(1), object(3)\n",
      "memory usage: 132.4+ KB\n"
     ]
    },
    {
     "data": {
      "text/plain": [
       "(3387, 5)"
      ]
     },
     "execution_count": 528,
     "metadata": {},
     "output_type": "execute_result"
    }
   ],
   "source": [
    "#Summary of our data structure\n",
    "box_office_mojo.info()\n",
    "box_office_mojo.shape"
   ]
  },
  {
   "cell_type": "code",
   "execution_count": 529,
   "metadata": {},
   "outputs": [
    {
     "data": {
      "text/plain": [
       "count    3.359000e+03\n",
       "mean     2.874585e+07\n",
       "std      6.698250e+07\n",
       "min      1.000000e+02\n",
       "25%      1.200000e+05\n",
       "50%      1.400000e+06\n",
       "75%      2.790000e+07\n",
       "max      9.367000e+08\n",
       "Name: domestic_gross, dtype: float64"
      ]
     },
     "execution_count": 529,
     "metadata": {},
     "output_type": "execute_result"
    }
   ],
   "source": [
    "# Summary statics of the dataframe\n",
    "box_office_mojo['domestic_gross'].describe()"
   ]
  },
  {
   "cell_type": "markdown",
   "metadata": {},
   "source": [
    "To avoid droping columns from the main dataframe, renaming the dataframe is very important."
   ]
  },
  {
   "cell_type": "code",
   "execution_count": 530,
   "metadata": {},
   "outputs": [],
   "source": [
    "#drop the foreign_gross\n",
    "refined_box = box_office_mojo.drop(columns= ['foreign_gross'])"
   ]
  },
  {
   "cell_type": "markdown",
   "metadata": {},
   "source": [
    "Filling domestic gross and foreign gross with median also ensures that there are no nulls in the domestic_gross column, which is essential for: plotting (histograms and scatter plots) and Running statistical tests and regression models."
   ]
  },
  {
   "cell_type": "code",
   "execution_count": 531,
   "metadata": {},
   "outputs": [
    {
     "data": {
      "text/plain": [
       "title             0\n",
       "studio            5\n",
       "domestic_gross    0\n",
       "year              0\n",
       "dtype: int64"
      ]
     },
     "execution_count": 531,
     "metadata": {},
     "output_type": "execute_result"
    }
   ],
   "source": [
    "#filling domestic gross with median (numerical column),\n",
    "refined_box['domestic_gross'].fillna(refined_box['domestic_gross'].median(), inplace=True)\n",
    "\n",
    "#checking for null values\n",
    "refined_box.isna().sum()"
   ]
  },
  {
   "cell_type": "code",
   "execution_count": 532,
   "metadata": {},
   "outputs": [
    {
     "data": {
      "text/html": [
       "<div>\n",
       "<style scoped>\n",
       "    .dataframe tbody tr th:only-of-type {\n",
       "        vertical-align: middle;\n",
       "    }\n",
       "\n",
       "    .dataframe tbody tr th {\n",
       "        vertical-align: top;\n",
       "    }\n",
       "\n",
       "    .dataframe thead th {\n",
       "        text-align: right;\n",
       "    }\n",
       "</style>\n",
       "<table border=\"1\" class=\"dataframe\">\n",
       "  <thead>\n",
       "    <tr style=\"text-align: right;\">\n",
       "      <th></th>\n",
       "      <th>title</th>\n",
       "      <th>studio</th>\n",
       "      <th>domestic_gross</th>\n",
       "      <th>year</th>\n",
       "    </tr>\n",
       "  </thead>\n",
       "  <tbody>\n",
       "    <tr>\n",
       "      <th>0</th>\n",
       "      <td>Toy Story 3</td>\n",
       "      <td>BV</td>\n",
       "      <td>415000000.0</td>\n",
       "      <td>2010</td>\n",
       "    </tr>\n",
       "    <tr>\n",
       "      <th>1</th>\n",
       "      <td>Alice in Wonderland (2010)</td>\n",
       "      <td>BV</td>\n",
       "      <td>334200000.0</td>\n",
       "      <td>2010</td>\n",
       "    </tr>\n",
       "    <tr>\n",
       "      <th>2</th>\n",
       "      <td>Harry Potter and the Deathly Hallows Part 1</td>\n",
       "      <td>WB</td>\n",
       "      <td>296000000.0</td>\n",
       "      <td>2010</td>\n",
       "    </tr>\n",
       "    <tr>\n",
       "      <th>3</th>\n",
       "      <td>Inception</td>\n",
       "      <td>WB</td>\n",
       "      <td>292600000.0</td>\n",
       "      <td>2010</td>\n",
       "    </tr>\n",
       "    <tr>\n",
       "      <th>4</th>\n",
       "      <td>Shrek Forever After</td>\n",
       "      <td>P/DW</td>\n",
       "      <td>238700000.0</td>\n",
       "      <td>2010</td>\n",
       "    </tr>\n",
       "    <tr>\n",
       "      <th>...</th>\n",
       "      <td>...</td>\n",
       "      <td>...</td>\n",
       "      <td>...</td>\n",
       "      <td>...</td>\n",
       "    </tr>\n",
       "    <tr>\n",
       "      <th>3382</th>\n",
       "      <td>The Quake</td>\n",
       "      <td>Magn.</td>\n",
       "      <td>6200.0</td>\n",
       "      <td>2018</td>\n",
       "    </tr>\n",
       "    <tr>\n",
       "      <th>3383</th>\n",
       "      <td>Edward II (2018 re-release)</td>\n",
       "      <td>FM</td>\n",
       "      <td>4800.0</td>\n",
       "      <td>2018</td>\n",
       "    </tr>\n",
       "    <tr>\n",
       "      <th>3384</th>\n",
       "      <td>El Pacto</td>\n",
       "      <td>Sony</td>\n",
       "      <td>2500.0</td>\n",
       "      <td>2018</td>\n",
       "    </tr>\n",
       "    <tr>\n",
       "      <th>3385</th>\n",
       "      <td>The Swan</td>\n",
       "      <td>Synergetic</td>\n",
       "      <td>2400.0</td>\n",
       "      <td>2018</td>\n",
       "    </tr>\n",
       "    <tr>\n",
       "      <th>3386</th>\n",
       "      <td>An Actor Prepares</td>\n",
       "      <td>Grav.</td>\n",
       "      <td>1700.0</td>\n",
       "      <td>2018</td>\n",
       "    </tr>\n",
       "  </tbody>\n",
       "</table>\n",
       "<p>3382 rows × 4 columns</p>\n",
       "</div>"
      ],
      "text/plain": [
       "                                            title      studio  domestic_gross  \\\n",
       "0                                     Toy Story 3          BV     415000000.0   \n",
       "1                      Alice in Wonderland (2010)          BV     334200000.0   \n",
       "2     Harry Potter and the Deathly Hallows Part 1          WB     296000000.0   \n",
       "3                                       Inception          WB     292600000.0   \n",
       "4                             Shrek Forever After        P/DW     238700000.0   \n",
       "...                                           ...         ...             ...   \n",
       "3382                                    The Quake       Magn.          6200.0   \n",
       "3383                  Edward II (2018 re-release)          FM          4800.0   \n",
       "3384                                     El Pacto        Sony          2500.0   \n",
       "3385                                     The Swan  Synergetic          2400.0   \n",
       "3386                            An Actor Prepares       Grav.          1700.0   \n",
       "\n",
       "      year  \n",
       "0     2010  \n",
       "1     2010  \n",
       "2     2010  \n",
       "3     2010  \n",
       "4     2010  \n",
       "...    ...  \n",
       "3382  2018  \n",
       "3383  2018  \n",
       "3384  2018  \n",
       "3385  2018  \n",
       "3386  2018  \n",
       "\n",
       "[3382 rows x 4 columns]"
      ]
     },
     "execution_count": 532,
     "metadata": {},
     "output_type": "execute_result"
    }
   ],
   "source": [
    "# drop the missing values\n",
    "refined_box.dropna()"
   ]
  },
  {
   "cell_type": "code",
   "execution_count": 533,
   "metadata": {},
   "outputs": [],
   "source": [
    "#Filling the null values in the studio column with unknown\n",
    "refined_box = refined_box.fillna('Unknown')"
   ]
  },
  {
   "cell_type": "code",
   "execution_count": 534,
   "metadata": {},
   "outputs": [
    {
     "data": {
      "text/plain": [
       "title             0\n",
       "studio            0\n",
       "domestic_gross    0\n",
       "year              0\n",
       "dtype: int64"
      ]
     },
     "execution_count": 534,
     "metadata": {},
     "output_type": "execute_result"
    }
   ],
   "source": [
    "#Checking if there are any missing values remaining\n",
    "refined_box.isna().sum()"
   ]
  },
  {
   "cell_type": "code",
   "execution_count": 535,
   "metadata": {},
   "outputs": [
    {
     "data": {
      "text/plain": [
       "False    3387\n",
       "dtype: int64"
      ]
     },
     "execution_count": 535,
     "metadata": {},
     "output_type": "execute_result"
    }
   ],
   "source": [
    "#checking for duplicated rows in the dataset\n",
    "refined_box.duplicated().value_counts()  "
   ]
  },
  {
   "cell_type": "code",
   "execution_count": 536,
   "metadata": {},
   "outputs": [
    {
     "name": "stdout",
     "output_type": "stream",
     "text": [
      "<class 'pandas.core.frame.DataFrame'>\n",
      "RangeIndex: 3387 entries, 0 to 3386\n",
      "Data columns (total 4 columns):\n",
      " #   Column          Non-Null Count  Dtype  \n",
      "---  ------          --------------  -----  \n",
      " 0   title           3387 non-null   object \n",
      " 1   studio          3387 non-null   object \n",
      " 2   domestic_gross  3387 non-null   float64\n",
      " 3   year            3387 non-null   int64  \n",
      "dtypes: float64(1), int64(1), object(2)\n",
      "memory usage: 106.0+ KB\n"
     ]
    }
   ],
   "source": [
    "refined_box.info()"
   ]
  },
  {
   "cell_type": "markdown",
   "metadata": {},
   "source": [
    "### 2. THE MOVIE DB"
   ]
  },
  {
   "cell_type": "markdown",
   "metadata": {},
   "source": [
    "In this dataset, we will drop the column that we intend not to use which is the the original_language column. We intend to Show which films gain audience traction pre- and post-release. The methods used to clean this dataset are;(.info(),.describe(),.drop(),.isna(),.duplicates())\n",
    "This dataset has a total of 26517 rows and 9 columns."
   ]
  },
  {
   "cell_type": "code",
   "execution_count": 537,
   "metadata": {},
   "outputs": [
    {
     "name": "stdout",
     "output_type": "stream",
     "text": [
      "<class 'pandas.core.frame.DataFrame'>\n",
      "Int64Index: 26517 entries, 0 to 26516\n",
      "Data columns (total 9 columns):\n",
      " #   Column             Non-Null Count  Dtype  \n",
      "---  ------             --------------  -----  \n",
      " 0   genre_ids          26517 non-null  object \n",
      " 1   id                 26517 non-null  int64  \n",
      " 2   original_language  26517 non-null  object \n",
      " 3   original_title     26517 non-null  object \n",
      " 4   popularity         26517 non-null  float64\n",
      " 5   release_date       26517 non-null  object \n",
      " 6   title              26517 non-null  object \n",
      " 7   vote_average       26517 non-null  float64\n",
      " 8   vote_count         26517 non-null  int64  \n",
      "dtypes: float64(2), int64(2), object(5)\n",
      "memory usage: 2.0+ MB\n"
     ]
    },
    {
     "data": {
      "text/plain": [
       "(26517, 9)"
      ]
     },
     "execution_count": 537,
     "metadata": {},
     "output_type": "execute_result"
    }
   ],
   "source": [
    "#Summary of our data structure\n",
    "movie_Db.info ()\n",
    "movie_Db.shape"
   ]
  },
  {
   "cell_type": "code",
   "execution_count": 538,
   "metadata": {},
   "outputs": [
    {
     "data": {
      "text/html": [
       "<div>\n",
       "<style scoped>\n",
       "    .dataframe tbody tr th:only-of-type {\n",
       "        vertical-align: middle;\n",
       "    }\n",
       "\n",
       "    .dataframe tbody tr th {\n",
       "        vertical-align: top;\n",
       "    }\n",
       "\n",
       "    .dataframe thead th {\n",
       "        text-align: right;\n",
       "    }\n",
       "</style>\n",
       "<table border=\"1\" class=\"dataframe\">\n",
       "  <thead>\n",
       "    <tr style=\"text-align: right;\">\n",
       "      <th></th>\n",
       "      <th>id</th>\n",
       "      <th>popularity</th>\n",
       "      <th>vote_average</th>\n",
       "      <th>vote_count</th>\n",
       "    </tr>\n",
       "  </thead>\n",
       "  <tbody>\n",
       "    <tr>\n",
       "      <th>count</th>\n",
       "      <td>26517.000000</td>\n",
       "      <td>26517.000000</td>\n",
       "      <td>26517.000000</td>\n",
       "      <td>26517.000000</td>\n",
       "    </tr>\n",
       "    <tr>\n",
       "      <th>mean</th>\n",
       "      <td>295050.153260</td>\n",
       "      <td>3.130912</td>\n",
       "      <td>5.991281</td>\n",
       "      <td>194.224837</td>\n",
       "    </tr>\n",
       "    <tr>\n",
       "      <th>std</th>\n",
       "      <td>153661.615648</td>\n",
       "      <td>4.355229</td>\n",
       "      <td>1.852946</td>\n",
       "      <td>960.961095</td>\n",
       "    </tr>\n",
       "    <tr>\n",
       "      <th>min</th>\n",
       "      <td>27.000000</td>\n",
       "      <td>0.600000</td>\n",
       "      <td>0.000000</td>\n",
       "      <td>1.000000</td>\n",
       "    </tr>\n",
       "    <tr>\n",
       "      <th>25%</th>\n",
       "      <td>157851.000000</td>\n",
       "      <td>0.600000</td>\n",
       "      <td>5.000000</td>\n",
       "      <td>2.000000</td>\n",
       "    </tr>\n",
       "    <tr>\n",
       "      <th>50%</th>\n",
       "      <td>309581.000000</td>\n",
       "      <td>1.374000</td>\n",
       "      <td>6.000000</td>\n",
       "      <td>5.000000</td>\n",
       "    </tr>\n",
       "    <tr>\n",
       "      <th>75%</th>\n",
       "      <td>419542.000000</td>\n",
       "      <td>3.694000</td>\n",
       "      <td>7.000000</td>\n",
       "      <td>28.000000</td>\n",
       "    </tr>\n",
       "    <tr>\n",
       "      <th>max</th>\n",
       "      <td>608444.000000</td>\n",
       "      <td>80.773000</td>\n",
       "      <td>10.000000</td>\n",
       "      <td>22186.000000</td>\n",
       "    </tr>\n",
       "  </tbody>\n",
       "</table>\n",
       "</div>"
      ],
      "text/plain": [
       "                  id    popularity  vote_average    vote_count\n",
       "count   26517.000000  26517.000000  26517.000000  26517.000000\n",
       "mean   295050.153260      3.130912      5.991281    194.224837\n",
       "std    153661.615648      4.355229      1.852946    960.961095\n",
       "min        27.000000      0.600000      0.000000      1.000000\n",
       "25%    157851.000000      0.600000      5.000000      2.000000\n",
       "50%    309581.000000      1.374000      6.000000      5.000000\n",
       "75%    419542.000000      3.694000      7.000000     28.000000\n",
       "max    608444.000000     80.773000     10.000000  22186.000000"
      ]
     },
     "execution_count": 538,
     "metadata": {},
     "output_type": "execute_result"
    }
   ],
   "source": [
    "#Describes the summary statistics of the dataset\n",
    "movie_Db.describe()"
   ]
  },
  {
   "cell_type": "code",
   "execution_count": 539,
   "metadata": {},
   "outputs": [],
   "source": [
    "#Droping columns\n",
    "cleaned_moviedb = movie_Db.drop(columns=[\"original_language\"])\n",
    "#cleaned_moviedb.head()"
   ]
  },
  {
   "cell_type": "code",
   "execution_count": 540,
   "metadata": {},
   "outputs": [
    {
     "data": {
      "text/plain": [
       "genre_ids         0\n",
       "id                0\n",
       "original_title    0\n",
       "popularity        0\n",
       "release_date      0\n",
       "title             0\n",
       "vote_average      0\n",
       "vote_count        0\n",
       "dtype: int64"
      ]
     },
     "execution_count": 540,
     "metadata": {},
     "output_type": "execute_result"
    }
   ],
   "source": [
    "#checking for null values\n",
    "cleaned_moviedb.isna().sum()"
   ]
  },
  {
   "cell_type": "markdown",
   "metadata": {},
   "source": [
    "Make use of the pd.to_datetime method to change the datatype from object to datetime which is makes it usable in the analysis  stage. It basically sets the data up for comparison in relation to time.\n",
    "errors = 'coerce' tells pandas to convert the data properly."
   ]
  },
  {
   "cell_type": "code",
   "execution_count": 541,
   "metadata": {},
   "outputs": [],
   "source": [
    "#Converting dates\n",
    "cleaned_moviedb['release_date'] = pd.to_datetime(cleaned_moviedb['release_date'], errors='coerce')"
   ]
  },
  {
   "cell_type": "code",
   "execution_count": 542,
   "metadata": {},
   "outputs": [
    {
     "data": {
      "text/plain": [
       "False    25497\n",
       "True      1020\n",
       "dtype: int64"
      ]
     },
     "execution_count": 542,
     "metadata": {},
     "output_type": "execute_result"
    }
   ],
   "source": [
    "#Checks for duplicates \n",
    "cleaned_moviedb.duplicated(subset='id').value_counts()"
   ]
  },
  {
   "cell_type": "code",
   "execution_count": 543,
   "metadata": {},
   "outputs": [],
   "source": [
    "#drop the dulicates\n",
    "cleaned_moviedb.drop_duplicates(inplace = True)"
   ]
  },
  {
   "cell_type": "code",
   "execution_count": 544,
   "metadata": {},
   "outputs": [
    {
     "name": "stdout",
     "output_type": "stream",
     "text": [
      "<class 'pandas.core.frame.DataFrame'>\n",
      "Int64Index: 25497 entries, 0 to 26516\n",
      "Data columns (total 8 columns):\n",
      " #   Column          Non-Null Count  Dtype         \n",
      "---  ------          --------------  -----         \n",
      " 0   genre_ids       25497 non-null  object        \n",
      " 1   id              25497 non-null  int64         \n",
      " 2   original_title  25497 non-null  object        \n",
      " 3   popularity      25497 non-null  float64       \n",
      " 4   release_date    25497 non-null  datetime64[ns]\n",
      " 5   title           25497 non-null  object        \n",
      " 6   vote_average    25497 non-null  float64       \n",
      " 7   vote_count      25497 non-null  int64         \n",
      "dtypes: datetime64[ns](1), float64(2), int64(2), object(3)\n",
      "memory usage: 1.8+ MB\n"
     ]
    }
   ],
   "source": [
    "cleaned_moviedb.info()"
   ]
  },
  {
   "cell_type": "markdown",
   "metadata": {},
   "source": [
    "### 3. The Numbers Dataset (`tn.movie_budgets.csv.gz`)\n",
    "\n",
    "To prepare the *The Numbers* dataset for analysis, we performed the following cleaning steps:\n",
    "\n",
    "### 1. Loading the dataset\n",
    "The dataset was read using `pandas.read_csv()`.\n"
   ]
  },
  {
   "cell_type": "code",
   "execution_count": 545,
   "metadata": {},
   "outputs": [
    {
     "data": {
      "text/html": [
       "<div>\n",
       "<style scoped>\n",
       "    .dataframe tbody tr th:only-of-type {\n",
       "        vertical-align: middle;\n",
       "    }\n",
       "\n",
       "    .dataframe tbody tr th {\n",
       "        vertical-align: top;\n",
       "    }\n",
       "\n",
       "    .dataframe thead th {\n",
       "        text-align: right;\n",
       "    }\n",
       "</style>\n",
       "<table border=\"1\" class=\"dataframe\">\n",
       "  <thead>\n",
       "    <tr style=\"text-align: right;\">\n",
       "      <th></th>\n",
       "      <th>id</th>\n",
       "      <th>release_date</th>\n",
       "      <th>movie</th>\n",
       "      <th>production_budget</th>\n",
       "      <th>domestic_gross</th>\n",
       "      <th>worldwide_gross</th>\n",
       "    </tr>\n",
       "  </thead>\n",
       "  <tbody>\n",
       "    <tr>\n",
       "      <th>0</th>\n",
       "      <td>1</td>\n",
       "      <td>Dec 18, 2009</td>\n",
       "      <td>Avatar</td>\n",
       "      <td>$425,000,000</td>\n",
       "      <td>$760,507,625</td>\n",
       "      <td>$2,776,345,279</td>\n",
       "    </tr>\n",
       "    <tr>\n",
       "      <th>1</th>\n",
       "      <td>2</td>\n",
       "      <td>May 20, 2011</td>\n",
       "      <td>Pirates of the Caribbean: On Stranger Tides</td>\n",
       "      <td>$410,600,000</td>\n",
       "      <td>$241,063,875</td>\n",
       "      <td>$1,045,663,875</td>\n",
       "    </tr>\n",
       "    <tr>\n",
       "      <th>2</th>\n",
       "      <td>3</td>\n",
       "      <td>Jun 7, 2019</td>\n",
       "      <td>Dark Phoenix</td>\n",
       "      <td>$350,000,000</td>\n",
       "      <td>$42,762,350</td>\n",
       "      <td>$149,762,350</td>\n",
       "    </tr>\n",
       "    <tr>\n",
       "      <th>3</th>\n",
       "      <td>4</td>\n",
       "      <td>May 1, 2015</td>\n",
       "      <td>Avengers: Age of Ultron</td>\n",
       "      <td>$330,600,000</td>\n",
       "      <td>$459,005,868</td>\n",
       "      <td>$1,403,013,963</td>\n",
       "    </tr>\n",
       "    <tr>\n",
       "      <th>4</th>\n",
       "      <td>5</td>\n",
       "      <td>Dec 15, 2017</td>\n",
       "      <td>Star Wars Ep. VIII: The Last Jedi</td>\n",
       "      <td>$317,000,000</td>\n",
       "      <td>$620,181,382</td>\n",
       "      <td>$1,316,721,747</td>\n",
       "    </tr>\n",
       "  </tbody>\n",
       "</table>\n",
       "</div>"
      ],
      "text/plain": [
       "   id  release_date                                        movie  \\\n",
       "0   1  Dec 18, 2009                                       Avatar   \n",
       "1   2  May 20, 2011  Pirates of the Caribbean: On Stranger Tides   \n",
       "2   3   Jun 7, 2019                                 Dark Phoenix   \n",
       "3   4   May 1, 2015                      Avengers: Age of Ultron   \n",
       "4   5  Dec 15, 2017            Star Wars Ep. VIII: The Last Jedi   \n",
       "\n",
       "  production_budget domestic_gross worldwide_gross  \n",
       "0      $425,000,000   $760,507,625  $2,776,345,279  \n",
       "1      $410,600,000   $241,063,875  $1,045,663,875  \n",
       "2      $350,000,000    $42,762,350    $149,762,350  \n",
       "3      $330,600,000   $459,005,868  $1,403,013,963  \n",
       "4      $317,000,000   $620,181,382  $1,316,721,747  "
      ]
     },
     "execution_count": 545,
     "metadata": {},
     "output_type": "execute_result"
    }
   ],
   "source": [
    "\n",
    "\n",
    "budgets_df = pd.read_csv(\"zippedData/tn.movie_budgets.csv/tn.movie_budgets.csv\")\n",
    "budgets_df.head()"
   ]
  },
  {
   "cell_type": "markdown",
   "metadata": {},
   "source": [
    "### 2. Inspecting Columns and Data Types"
   ]
  },
  {
   "cell_type": "code",
   "execution_count": 546,
   "metadata": {},
   "outputs": [
    {
     "name": "stdout",
     "output_type": "stream",
     "text": [
      "<class 'pandas.core.frame.DataFrame'>\n",
      "RangeIndex: 5782 entries, 0 to 5781\n",
      "Data columns (total 6 columns):\n",
      " #   Column             Non-Null Count  Dtype \n",
      "---  ------             --------------  ----- \n",
      " 0   id                 5782 non-null   int64 \n",
      " 1   release_date       5782 non-null   object\n",
      " 2   movie              5782 non-null   object\n",
      " 3   production_budget  5782 non-null   object\n",
      " 4   domestic_gross     5782 non-null   object\n",
      " 5   worldwide_gross    5782 non-null   object\n",
      "dtypes: int64(1), object(5)\n",
      "memory usage: 271.2+ KB\n"
     ]
    },
    {
     "data": {
      "text/plain": [
       "Index(['id', 'release_date', 'movie', 'production_budget', 'domestic_gross',\n",
       "       'worldwide_gross'],\n",
       "      dtype='object')"
      ]
     },
     "execution_count": 546,
     "metadata": {},
     "output_type": "execute_result"
    }
   ],
   "source": [
    "budgets_df.info()\n",
    "budgets_df.columns"
   ]
  },
  {
   "cell_type": "markdown",
   "metadata": {},
   "source": [
    "### 3. Cleaning Column Names"
   ]
  },
  {
   "cell_type": "code",
   "execution_count": 547,
   "metadata": {},
   "outputs": [],
   "source": [
    "# Make column names lowercase and replace spaces with underscores\n",
    "budgets_df.columns = budgets_df.columns.str.lower().str.replace(' ', '_')"
   ]
  },
  {
   "cell_type": "markdown",
   "metadata": {},
   "source": [
    "### 4. Converting Currency Columns to Numeric"
   ]
  },
  {
   "cell_type": "code",
   "execution_count": 548,
   "metadata": {},
   "outputs": [],
   "source": [
    "currency_cols = ['production_budget', 'domestic_gross', 'worldwide_gross']\n",
    "\n",
    "for col in currency_cols:\n",
    "    budgets_df[col] = (\n",
    "        budgets_df[col]\n",
    "        .replace('[\\$,]', '', regex=True)\n",
    "        .astype(float)\n",
    "    )"
   ]
  },
  {
   "cell_type": "markdown",
   "metadata": {},
   "source": [
    "### 5. Converting Dates to Datetime Format"
   ]
  },
  {
   "cell_type": "code",
   "execution_count": 549,
   "metadata": {},
   "outputs": [],
   "source": [
    "# Convert release_date to datetime\n",
    "budgets_df['release_date'] = pd.to_datetime(budgets_df['release_date'])\n",
    "\n",
    "# Create a new column for release year\n",
    "budgets_df['release_year'] = budgets_df['release_date'].dt.year"
   ]
  },
  {
   "cell_type": "markdown",
   "metadata": {},
   "source": [
    "### 6. Checking for Missing Values"
   ]
  },
  {
   "cell_type": "code",
   "execution_count": 550,
   "metadata": {},
   "outputs": [
    {
     "data": {
      "text/plain": [
       "id                   0\n",
       "release_date         0\n",
       "movie                0\n",
       "production_budget    0\n",
       "domestic_gross       0\n",
       "worldwide_gross      0\n",
       "release_year         0\n",
       "dtype: int64"
      ]
     },
     "execution_count": 550,
     "metadata": {},
     "output_type": "execute_result"
    }
   ],
   "source": [
    "budgets_df.isnull().sum()"
   ]
  },
  {
   "cell_type": "code",
   "execution_count": 551,
   "metadata": {},
   "outputs": [],
   "source": [
    "# Drop rows where essential data is missing\n",
    "budgets_df = budgets_df.dropna(subset=['movie', 'production_budget', 'worldwide_gross'])"
   ]
  },
  {
   "cell_type": "markdown",
   "metadata": {},
   "source": [
    "### 7. Creating a New Profit Column"
   ]
  },
  {
   "cell_type": "code",
   "execution_count": 552,
   "metadata": {},
   "outputs": [],
   "source": [
    "budgets_df['profit'] = budgets_df['worldwide_gross'] - budgets_df['production_budget']"
   ]
  },
  {
   "cell_type": "markdown",
   "metadata": {},
   "source": [
    "### 8. Final Preview"
   ]
  },
  {
   "cell_type": "code",
   "execution_count": 553,
   "metadata": {},
   "outputs": [
    {
     "data": {
      "text/html": [
       "<div>\n",
       "<style scoped>\n",
       "    .dataframe tbody tr th:only-of-type {\n",
       "        vertical-align: middle;\n",
       "    }\n",
       "\n",
       "    .dataframe tbody tr th {\n",
       "        vertical-align: top;\n",
       "    }\n",
       "\n",
       "    .dataframe thead th {\n",
       "        text-align: right;\n",
       "    }\n",
       "</style>\n",
       "<table border=\"1\" class=\"dataframe\">\n",
       "  <thead>\n",
       "    <tr style=\"text-align: right;\">\n",
       "      <th></th>\n",
       "      <th>movie</th>\n",
       "      <th>release_year</th>\n",
       "      <th>production_budget</th>\n",
       "      <th>worldwide_gross</th>\n",
       "      <th>profit</th>\n",
       "    </tr>\n",
       "  </thead>\n",
       "  <tbody>\n",
       "    <tr>\n",
       "      <th>0</th>\n",
       "      <td>Avatar</td>\n",
       "      <td>2009</td>\n",
       "      <td>425000000.0</td>\n",
       "      <td>2.776345e+09</td>\n",
       "      <td>2.351345e+09</td>\n",
       "    </tr>\n",
       "    <tr>\n",
       "      <th>1</th>\n",
       "      <td>Pirates of the Caribbean: On Stranger Tides</td>\n",
       "      <td>2011</td>\n",
       "      <td>410600000.0</td>\n",
       "      <td>1.045664e+09</td>\n",
       "      <td>6.350639e+08</td>\n",
       "    </tr>\n",
       "    <tr>\n",
       "      <th>2</th>\n",
       "      <td>Dark Phoenix</td>\n",
       "      <td>2019</td>\n",
       "      <td>350000000.0</td>\n",
       "      <td>1.497624e+08</td>\n",
       "      <td>-2.002376e+08</td>\n",
       "    </tr>\n",
       "    <tr>\n",
       "      <th>3</th>\n",
       "      <td>Avengers: Age of Ultron</td>\n",
       "      <td>2015</td>\n",
       "      <td>330600000.0</td>\n",
       "      <td>1.403014e+09</td>\n",
       "      <td>1.072414e+09</td>\n",
       "    </tr>\n",
       "    <tr>\n",
       "      <th>4</th>\n",
       "      <td>Star Wars Ep. VIII: The Last Jedi</td>\n",
       "      <td>2017</td>\n",
       "      <td>317000000.0</td>\n",
       "      <td>1.316722e+09</td>\n",
       "      <td>9.997217e+08</td>\n",
       "    </tr>\n",
       "  </tbody>\n",
       "</table>\n",
       "</div>"
      ],
      "text/plain": [
       "                                         movie  release_year  \\\n",
       "0                                       Avatar          2009   \n",
       "1  Pirates of the Caribbean: On Stranger Tides          2011   \n",
       "2                                 Dark Phoenix          2019   \n",
       "3                      Avengers: Age of Ultron          2015   \n",
       "4            Star Wars Ep. VIII: The Last Jedi          2017   \n",
       "\n",
       "   production_budget  worldwide_gross        profit  \n",
       "0        425000000.0     2.776345e+09  2.351345e+09  \n",
       "1        410600000.0     1.045664e+09  6.350639e+08  \n",
       "2        350000000.0     1.497624e+08 -2.002376e+08  \n",
       "3        330600000.0     1.403014e+09  1.072414e+09  \n",
       "4        317000000.0     1.316722e+09  9.997217e+08  "
      ]
     },
     "execution_count": 553,
     "metadata": {},
     "output_type": "execute_result"
    }
   ],
   "source": [
    "budgets_df[['movie', 'release_year', 'production_budget', 'worldwide_gross', 'profit']].head()"
   ]
  },
  {
   "cell_type": "markdown",
   "metadata": {},
   "source": [
    "### Merging the datasets for unified Analysis\n",
    " The goal is to combine box office, budget and IMDB database into a single dataframe to analyze the key drivers of revenue and profitability\n",
    " Clean and Standardize the Datasets\n",
    "Normalize column names, strip whitespace, and convert date formats:\n"
   ]
  },
  {
   "cell_type": "code",
   "execution_count": 554,
   "metadata": {},
   "outputs": [],
   "source": [
    "\n",
    "#Merge budgets_df with IMDb data\n",
    "#The key identifiers are movie and release_year from budgets_df and match them with movie_basics.\n",
    "#Clean movie titles (lowercase and remove extra spaces for matching)\n",
    "basics['primary_title_clean'] = basics['primary_title'].str.lower().str.strip()\n",
    "budgets_df['movie_clean'] = budgets_df['movie'].str.lower().str.strip()\n",
    "#Merge budgets with IMDb basics on title and year\n",
    "#The budgets_df has release_year and basics has start_year (both numeric), merge on those and cleaned titles:\n",
    "\n",
    "merged_df = pd.merge(\n",
    "    budgets_df,\n",
    "    basics,\n",
    "    how='left',\n",
    "    left_on=['movie_clean', 'release_year'],\n",
    "    right_on=['primary_title_clean', 'start_year']\n",
    ")\n",
    "\n",
    "ratings.rename(columns={'averagerating': 'average_rating', 'numvotes': 'num_votes'}, inplace=True)\n",
    "\n"
   ]
  },
  {
   "cell_type": "code",
   "execution_count": 555,
   "metadata": {},
   "outputs": [
    {
     "name": "stdout",
     "output_type": "stream",
     "text": [
      "True\n",
      "True\n"
     ]
    }
   ],
   "source": [
    "# Confirm movie_id exists in both:\n",
    "print('movie_id' in merged_df.columns)  # Should return True\n",
    "print('movie_id' in ratings.columns)    # Should return True\n",
    "\n"
   ]
  },
  {
   "cell_type": "code",
   "execution_count": 556,
   "metadata": {},
   "outputs": [],
   "source": [
    "# Merging ratings and merged_df\n",
    "merged_df = pd.merge(\n",
    "    merged_df,\n",
    "    ratings,\n",
    "    how='left',  # Keeps all rows from merged_df, adds matching ratings\n",
    "    on='movie_id'  # Column present in both DataFrames\n",
    ")\n"
   ]
  },
  {
   "cell_type": "code",
   "execution_count": 557,
   "metadata": {},
   "outputs": [],
   "source": [
    "# filtering the merged_df DataFrame to include only rows that have no missing values in these specific columns:\n",
    "# copy the result into a new DataFrame called matched_df.\n",
    "\n",
    "\n",
    "\n",
    "matched_df = merged_df[\n",
    "    merged_df[['primary_title', 'start_year', 'genres', 'average_rating']].notnull().all(axis=1)\n",
    "].copy()"
   ]
  },
  {
   "cell_type": "code",
   "execution_count": 558,
   "metadata": {},
   "outputs": [
    {
     "data": {
      "text/html": [
       "<div>\n",
       "<style scoped>\n",
       "    .dataframe tbody tr th:only-of-type {\n",
       "        vertical-align: middle;\n",
       "    }\n",
       "\n",
       "    .dataframe tbody tr th {\n",
       "        vertical-align: top;\n",
       "    }\n",
       "\n",
       "    .dataframe thead th {\n",
       "        text-align: right;\n",
       "    }\n",
       "</style>\n",
       "<table border=\"1\" class=\"dataframe\">\n",
       "  <thead>\n",
       "    <tr style=\"text-align: right;\">\n",
       "      <th></th>\n",
       "      <th>id</th>\n",
       "      <th>release_date</th>\n",
       "      <th>movie</th>\n",
       "      <th>production_budget</th>\n",
       "      <th>domestic_gross</th>\n",
       "      <th>worldwide_gross</th>\n",
       "      <th>release_year</th>\n",
       "      <th>profit</th>\n",
       "      <th>movie_clean</th>\n",
       "      <th>movie_id</th>\n",
       "      <th>primary_title</th>\n",
       "      <th>original_title</th>\n",
       "      <th>start_year</th>\n",
       "      <th>runtime_minutes</th>\n",
       "      <th>genres</th>\n",
       "      <th>primary_title_clean</th>\n",
       "      <th>average_rating</th>\n",
       "      <th>num_votes</th>\n",
       "    </tr>\n",
       "  </thead>\n",
       "  <tbody>\n",
       "    <tr>\n",
       "      <th>0</th>\n",
       "      <td>2</td>\n",
       "      <td>2011-05-20</td>\n",
       "      <td>Pirates of the Caribbean: On Stranger Tides</td>\n",
       "      <td>410600000.0</td>\n",
       "      <td>241063875.0</td>\n",
       "      <td>1.045664e+09</td>\n",
       "      <td>2011</td>\n",
       "      <td>6.350639e+08</td>\n",
       "      <td>pirates of the caribbean: on stranger tides</td>\n",
       "      <td>tt1298650</td>\n",
       "      <td>Pirates of the Caribbean: On Stranger Tides</td>\n",
       "      <td>Pirates of the Caribbean: On Stranger Tides</td>\n",
       "      <td>2011.0</td>\n",
       "      <td>136.0</td>\n",
       "      <td>Action,Adventure,Fantasy</td>\n",
       "      <td>pirates of the caribbean: on stranger tides</td>\n",
       "      <td>6.6</td>\n",
       "      <td>447624.0</td>\n",
       "    </tr>\n",
       "    <tr>\n",
       "      <th>1</th>\n",
       "      <td>3</td>\n",
       "      <td>2019-06-07</td>\n",
       "      <td>Dark Phoenix</td>\n",
       "      <td>350000000.0</td>\n",
       "      <td>42762350.0</td>\n",
       "      <td>1.497624e+08</td>\n",
       "      <td>2019</td>\n",
       "      <td>-2.002376e+08</td>\n",
       "      <td>dark phoenix</td>\n",
       "      <td>tt6565702</td>\n",
       "      <td>Dark Phoenix</td>\n",
       "      <td>Dark Phoenix</td>\n",
       "      <td>2019.0</td>\n",
       "      <td>113.0</td>\n",
       "      <td>Action,Adventure,Sci-Fi</td>\n",
       "      <td>dark phoenix</td>\n",
       "      <td>6.0</td>\n",
       "      <td>24451.0</td>\n",
       "    </tr>\n",
       "    <tr>\n",
       "      <th>2</th>\n",
       "      <td>4</td>\n",
       "      <td>2015-05-01</td>\n",
       "      <td>Avengers: Age of Ultron</td>\n",
       "      <td>330600000.0</td>\n",
       "      <td>459005868.0</td>\n",
       "      <td>1.403014e+09</td>\n",
       "      <td>2015</td>\n",
       "      <td>1.072414e+09</td>\n",
       "      <td>avengers: age of ultron</td>\n",
       "      <td>tt2395427</td>\n",
       "      <td>Avengers: Age of Ultron</td>\n",
       "      <td>Avengers: Age of Ultron</td>\n",
       "      <td>2015.0</td>\n",
       "      <td>141.0</td>\n",
       "      <td>Action,Adventure,Sci-Fi</td>\n",
       "      <td>avengers: age of ultron</td>\n",
       "      <td>7.3</td>\n",
       "      <td>665594.0</td>\n",
       "    </tr>\n",
       "    <tr>\n",
       "      <th>3</th>\n",
       "      <td>7</td>\n",
       "      <td>2018-04-27</td>\n",
       "      <td>Avengers: Infinity War</td>\n",
       "      <td>300000000.0</td>\n",
       "      <td>678815482.0</td>\n",
       "      <td>2.048134e+09</td>\n",
       "      <td>2018</td>\n",
       "      <td>1.748134e+09</td>\n",
       "      <td>avengers: infinity war</td>\n",
       "      <td>tt4154756</td>\n",
       "      <td>Avengers: Infinity War</td>\n",
       "      <td>Avengers: Infinity War</td>\n",
       "      <td>2018.0</td>\n",
       "      <td>149.0</td>\n",
       "      <td>Action,Adventure,Sci-Fi</td>\n",
       "      <td>avengers: infinity war</td>\n",
       "      <td>8.5</td>\n",
       "      <td>670926.0</td>\n",
       "    </tr>\n",
       "    <tr>\n",
       "      <th>4</th>\n",
       "      <td>9</td>\n",
       "      <td>2017-11-17</td>\n",
       "      <td>Justice League</td>\n",
       "      <td>300000000.0</td>\n",
       "      <td>229024295.0</td>\n",
       "      <td>6.559452e+08</td>\n",
       "      <td>2017</td>\n",
       "      <td>3.559452e+08</td>\n",
       "      <td>justice league</td>\n",
       "      <td>tt0974015</td>\n",
       "      <td>Justice League</td>\n",
       "      <td>Justice League</td>\n",
       "      <td>2017.0</td>\n",
       "      <td>120.0</td>\n",
       "      <td>Action,Adventure,Fantasy</td>\n",
       "      <td>justice league</td>\n",
       "      <td>6.5</td>\n",
       "      <td>329135.0</td>\n",
       "    </tr>\n",
       "    <tr>\n",
       "      <th>...</th>\n",
       "      <td>...</td>\n",
       "      <td>...</td>\n",
       "      <td>...</td>\n",
       "      <td>...</td>\n",
       "      <td>...</td>\n",
       "      <td>...</td>\n",
       "      <td>...</td>\n",
       "      <td>...</td>\n",
       "      <td>...</td>\n",
       "      <td>...</td>\n",
       "      <td>...</td>\n",
       "      <td>...</td>\n",
       "      <td>...</td>\n",
       "      <td>...</td>\n",
       "      <td>...</td>\n",
       "      <td>...</td>\n",
       "      <td>...</td>\n",
       "      <td>...</td>\n",
       "    </tr>\n",
       "    <tr>\n",
       "      <th>1528</th>\n",
       "      <td>45</td>\n",
       "      <td>2017-01-27</td>\n",
       "      <td>Emily</td>\n",
       "      <td>27000.0</td>\n",
       "      <td>3547.0</td>\n",
       "      <td>3.547000e+03</td>\n",
       "      <td>2017</td>\n",
       "      <td>-2.345300e+04</td>\n",
       "      <td>emily</td>\n",
       "      <td>tt4393036</td>\n",
       "      <td>Emily</td>\n",
       "      <td>Emily</td>\n",
       "      <td>2017.0</td>\n",
       "      <td>83.0</td>\n",
       "      <td>Drama</td>\n",
       "      <td>emily</td>\n",
       "      <td>6.8</td>\n",
       "      <td>13.0</td>\n",
       "    </tr>\n",
       "    <tr>\n",
       "      <th>1529</th>\n",
       "      <td>49</td>\n",
       "      <td>2015-09-01</td>\n",
       "      <td>Exeter</td>\n",
       "      <td>25000.0</td>\n",
       "      <td>0.0</td>\n",
       "      <td>4.897920e+05</td>\n",
       "      <td>2015</td>\n",
       "      <td>4.647920e+05</td>\n",
       "      <td>exeter</td>\n",
       "      <td>tt1945044</td>\n",
       "      <td>Exeter</td>\n",
       "      <td>Exeter</td>\n",
       "      <td>2015.0</td>\n",
       "      <td>91.0</td>\n",
       "      <td>Horror,Mystery,Thriller</td>\n",
       "      <td>exeter</td>\n",
       "      <td>4.5</td>\n",
       "      <td>5156.0</td>\n",
       "    </tr>\n",
       "    <tr>\n",
       "      <th>1530</th>\n",
       "      <td>52</td>\n",
       "      <td>2015-12-01</td>\n",
       "      <td>Dutch Kills</td>\n",
       "      <td>25000.0</td>\n",
       "      <td>0.0</td>\n",
       "      <td>0.000000e+00</td>\n",
       "      <td>2015</td>\n",
       "      <td>-2.500000e+04</td>\n",
       "      <td>dutch kills</td>\n",
       "      <td>tt2759066</td>\n",
       "      <td>Dutch Kills</td>\n",
       "      <td>Dutch Kills</td>\n",
       "      <td>2015.0</td>\n",
       "      <td>90.0</td>\n",
       "      <td>Crime,Drama,Thriller</td>\n",
       "      <td>dutch kills</td>\n",
       "      <td>5.1</td>\n",
       "      <td>82.0</td>\n",
       "    </tr>\n",
       "    <tr>\n",
       "      <th>1531</th>\n",
       "      <td>59</td>\n",
       "      <td>2011-11-25</td>\n",
       "      <td>The Ridges</td>\n",
       "      <td>17300.0</td>\n",
       "      <td>0.0</td>\n",
       "      <td>0.000000e+00</td>\n",
       "      <td>2011</td>\n",
       "      <td>-1.730000e+04</td>\n",
       "      <td>the ridges</td>\n",
       "      <td>tt1781935</td>\n",
       "      <td>The Ridges</td>\n",
       "      <td>The Ridges</td>\n",
       "      <td>2011.0</td>\n",
       "      <td>89.0</td>\n",
       "      <td>Drama,Horror,Thriller</td>\n",
       "      <td>the ridges</td>\n",
       "      <td>2.9</td>\n",
       "      <td>127.0</td>\n",
       "    </tr>\n",
       "    <tr>\n",
       "      <th>1532</th>\n",
       "      <td>62</td>\n",
       "      <td>2014-12-31</td>\n",
       "      <td>Stories of Our Lives</td>\n",
       "      <td>15000.0</td>\n",
       "      <td>0.0</td>\n",
       "      <td>0.000000e+00</td>\n",
       "      <td>2014</td>\n",
       "      <td>-1.500000e+04</td>\n",
       "      <td>stories of our lives</td>\n",
       "      <td>tt3973612</td>\n",
       "      <td>Stories of Our Lives</td>\n",
       "      <td>Stories of Our Lives</td>\n",
       "      <td>2014.0</td>\n",
       "      <td>60.0</td>\n",
       "      <td>Drama</td>\n",
       "      <td>stories of our lives</td>\n",
       "      <td>7.5</td>\n",
       "      <td>85.0</td>\n",
       "    </tr>\n",
       "  </tbody>\n",
       "</table>\n",
       "<p>1533 rows × 18 columns</p>\n",
       "</div>"
      ],
      "text/plain": [
       "      id release_date                                        movie  \\\n",
       "0      2   2011-05-20  Pirates of the Caribbean: On Stranger Tides   \n",
       "1      3   2019-06-07                                 Dark Phoenix   \n",
       "2      4   2015-05-01                      Avengers: Age of Ultron   \n",
       "3      7   2018-04-27                       Avengers: Infinity War   \n",
       "4      9   2017-11-17                               Justice League   \n",
       "...   ..          ...                                          ...   \n",
       "1528  45   2017-01-27                                        Emily   \n",
       "1529  49   2015-09-01                                       Exeter   \n",
       "1530  52   2015-12-01                                  Dutch Kills   \n",
       "1531  59   2011-11-25                                   The Ridges   \n",
       "1532  62   2014-12-31                         Stories of Our Lives   \n",
       "\n",
       "      production_budget  domestic_gross  worldwide_gross  release_year  \\\n",
       "0           410600000.0     241063875.0     1.045664e+09          2011   \n",
       "1           350000000.0      42762350.0     1.497624e+08          2019   \n",
       "2           330600000.0     459005868.0     1.403014e+09          2015   \n",
       "3           300000000.0     678815482.0     2.048134e+09          2018   \n",
       "4           300000000.0     229024295.0     6.559452e+08          2017   \n",
       "...                 ...             ...              ...           ...   \n",
       "1528            27000.0          3547.0     3.547000e+03          2017   \n",
       "1529            25000.0             0.0     4.897920e+05          2015   \n",
       "1530            25000.0             0.0     0.000000e+00          2015   \n",
       "1531            17300.0             0.0     0.000000e+00          2011   \n",
       "1532            15000.0             0.0     0.000000e+00          2014   \n",
       "\n",
       "            profit                                  movie_clean   movie_id  \\\n",
       "0     6.350639e+08  pirates of the caribbean: on stranger tides  tt1298650   \n",
       "1    -2.002376e+08                                 dark phoenix  tt6565702   \n",
       "2     1.072414e+09                      avengers: age of ultron  tt2395427   \n",
       "3     1.748134e+09                       avengers: infinity war  tt4154756   \n",
       "4     3.559452e+08                               justice league  tt0974015   \n",
       "...            ...                                          ...        ...   \n",
       "1528 -2.345300e+04                                        emily  tt4393036   \n",
       "1529  4.647920e+05                                       exeter  tt1945044   \n",
       "1530 -2.500000e+04                                  dutch kills  tt2759066   \n",
       "1531 -1.730000e+04                                   the ridges  tt1781935   \n",
       "1532 -1.500000e+04                         stories of our lives  tt3973612   \n",
       "\n",
       "                                    primary_title  \\\n",
       "0     Pirates of the Caribbean: On Stranger Tides   \n",
       "1                                    Dark Phoenix   \n",
       "2                         Avengers: Age of Ultron   \n",
       "3                          Avengers: Infinity War   \n",
       "4                                  Justice League   \n",
       "...                                           ...   \n",
       "1528                                        Emily   \n",
       "1529                                       Exeter   \n",
       "1530                                  Dutch Kills   \n",
       "1531                                   The Ridges   \n",
       "1532                         Stories of Our Lives   \n",
       "\n",
       "                                   original_title  start_year  \\\n",
       "0     Pirates of the Caribbean: On Stranger Tides      2011.0   \n",
       "1                                    Dark Phoenix      2019.0   \n",
       "2                         Avengers: Age of Ultron      2015.0   \n",
       "3                          Avengers: Infinity War      2018.0   \n",
       "4                                  Justice League      2017.0   \n",
       "...                                           ...         ...   \n",
       "1528                                        Emily      2017.0   \n",
       "1529                                       Exeter      2015.0   \n",
       "1530                                  Dutch Kills      2015.0   \n",
       "1531                                   The Ridges      2011.0   \n",
       "1532                         Stories of Our Lives      2014.0   \n",
       "\n",
       "      runtime_minutes                    genres  \\\n",
       "0               136.0  Action,Adventure,Fantasy   \n",
       "1               113.0   Action,Adventure,Sci-Fi   \n",
       "2               141.0   Action,Adventure,Sci-Fi   \n",
       "3               149.0   Action,Adventure,Sci-Fi   \n",
       "4               120.0  Action,Adventure,Fantasy   \n",
       "...               ...                       ...   \n",
       "1528             83.0                     Drama   \n",
       "1529             91.0   Horror,Mystery,Thriller   \n",
       "1530             90.0      Crime,Drama,Thriller   \n",
       "1531             89.0     Drama,Horror,Thriller   \n",
       "1532             60.0                     Drama   \n",
       "\n",
       "                              primary_title_clean  average_rating  num_votes  \n",
       "0     pirates of the caribbean: on stranger tides             6.6   447624.0  \n",
       "1                                    dark phoenix             6.0    24451.0  \n",
       "2                         avengers: age of ultron             7.3   665594.0  \n",
       "3                          avengers: infinity war             8.5   670926.0  \n",
       "4                                  justice league             6.5   329135.0  \n",
       "...                                           ...             ...        ...  \n",
       "1528                                        emily             6.8       13.0  \n",
       "1529                                       exeter             4.5     5156.0  \n",
       "1530                                  dutch kills             5.1       82.0  \n",
       "1531                                   the ridges             2.9      127.0  \n",
       "1532                         stories of our lives             7.5       85.0  \n",
       "\n",
       "[1533 rows x 18 columns]"
      ]
     },
     "execution_count": 558,
     "metadata": {},
     "output_type": "execute_result"
    }
   ],
   "source": [
    "# matched_df.reset_index(drop=True, inplace=True)\n",
    "\n",
    "matched_df = merged_df[merged_df['primary_title'].notnull()].copy()\n",
    "\n",
    "# Define important columns to keep\n",
    "important_imdb_cols = [\n",
    "    'primary_title', 'runtime_minutes', 'genres', 'average_rating', 'num_votes'\n",
    "]\n",
    "\n",
    "# Drop rows with missing critical IMDb data and reset the index\n",
    "clean_merged_df = merged_df.dropna(subset=important_imdb_cols).drop_duplicates().reset_index(drop=True)\n",
    "\n",
    "# # Check result\n",
    "# clean_merged_df.info()\n",
    "\n",
    "clean_merged_df\n"
   ]
  },
  {
   "cell_type": "markdown",
   "metadata": {},
   "source": [
    "## Expolatory Data Analysis (EDA)\n",
    "### Total Profit By Genre\n",
    "\n",
    "This plot helps us identify the highest-earning genres in terms of raw profit."
   ]
  },
  {
   "cell_type": "code",
   "execution_count": 559,
   "metadata": {},
   "outputs": [
    {
     "data": {
      "image/png": "[encoded data removed]",
      "text/plain": [
       "<Figure size 864x432 with 1 Axes>"
      ]
     },
     "metadata": {
      "needs_background": "light"
     },
     "output_type": "display_data"
    }
   ],
   "source": [
    "# Explode genres to handle multiple genres per movie\n",
    "\n",
    "clean_merged_df['genres'] = clean_merged_df['genres'].fillna('Unknown')\n",
    "df_genres = clean_merged_df.assign(genres=clean_merged_df['genres'].str.split(',')).explode('genres')\n",
    "\n",
    "# Total Revenue and Profit by Genre\n",
    "\n",
    "genre_performance = df_genres.groupby('genres').agg({\n",
    "    'worldwide_gross': 'sum',\n",
    "    'profit': 'sum',\n",
    "    'movie_id': 'count'\n",
    "}).rename(columns={'movie_id': 'movie_count'}).sort_values(by='worldwide_gross', ascending=False)\n",
    "\n",
    "\n",
    "# Plot: Profit by Genre\n",
    "\n",
    "plt.figure(figsize=(12,6))\n",
    "sns.barplot(x=genre_performance.index, y=genre_performance['profit'])\n",
    "plt.xticks(rotation=45)\n",
    "plt.title('Total Profit by Genre')\n",
    "plt.ylabel('Profit ($)')\n",
    "plt.xlabel('Genre')\n",
    "plt.tight_layout()\n",
    "plt.show()\n"
   ]
  },
  {
   "cell_type": "markdown",
   "metadata": {},
   "source": [
    "### We are able to see the following: \n",
    "\n",
    "* Action, Adventure, Sci-Fi, and Fantasy genres generally show the highest total profit.These genres attract large global audiences and usually get bigger production and marketing budgets — resulting in high box office returns.\n",
    "* Documentary, Music, and Experimental genres tend to have the lowest total profits, reflecting limited theatrical release, smaller audiences, and lower budgets.\n",
    "* Some genres may have high movie counts but low profit totals (e.g., Drama) — meaning many such films are made but are not huge moneymakers.\n",
    "* Others, like Fantasy or Sci-Fi, may have fewer movies but outsized profit contributions."
   ]
  },
  {
   "cell_type": "markdown",
   "metadata": {},
   "source": [
    "##  Analyze Impact of Budget, Runtime, and Number of Votes"
   ]
  },
  {
   "cell_type": "code",
   "execution_count": 560,
   "metadata": {},
   "outputs": [
    {
     "data": {
      "image/png": "[encoded data removed]",
      "text/plain": [
       "<Figure size 576x432 with 1 Axes>"
      ]
     },
     "metadata": {
      "needs_background": "light"
     },
     "output_type": "display_data"
    }
   ],
   "source": [
    "# Budget vs Worldwide Gross\n",
    "\n",
    "plt.figure(figsize=(8,6))\n",
    "sns.scatterplot(data=clean_merged_df, x='production_budget', y='worldwide_gross')\n",
    "plt.title('Production Budget vs Worldwide Gross')\n",
    "plt.xlabel('Production Budget ($)')\n",
    "plt.ylabel('Worldwide Gross ($)')\n",
    "plt.xscale('log')\n",
    "plt.yscale('log')\n",
    "plt.tight_layout()\n",
    "plt.show()\n"
   ]
  },
  {
   "cell_type": "markdown",
   "metadata": {},
   "source": [
    "### Our Typical Observations include:\n",
    "\n",
    " There is a  Positive Correlation:\n",
    "   \n",
    "  - Generally, higher production budgets lead to higher worldwide gross.\n",
    "\n",
    "  - The scatter points will often trend upwards to the right, showing that spending more usually results in greater revenue but not always proportional.\n",
    "\n",
    "  - A long tail toward the right, shows that while only a few films make huge profits, they skew the average upward.\n",
    "\n",
    "  - This is known as a right-skewed distribution, common in industries with high risk and high reward (like the film industry)."
   ]
  },
  {
   "cell_type": "code",
   "execution_count": 561,
   "metadata": {},
   "outputs": [
    {
     "data": {
      "image/png": "[encoded data removed]",
      "text/plain": [
       "<Figure size 576x360 with 1 Axes>"
      ]
     },
     "metadata": {
      "needs_background": "light"
     },
     "output_type": "display_data"
    }
   ],
   "source": [
    "# Profit Distribution\n",
    "\n",
    "plt.figure(figsize=(8, 5))\n",
    "sns.histplot(clean_merged_df['profit'], bins=50, kde=True)\n",
    "plt.title('Distribution of Profit')\n",
    "plt.xlabel('Profit ($)')\n",
    "plt.tight_layout()\n",
    "plt.show()"
   ]
  },
  {
   "cell_type": "markdown",
   "metadata": {},
   "source": [
    "### Our Typical Observations include:\n",
    "\n",
    "* A sharp peak near $0 or negative values, suggests that many films either break even or lose money.\n",
    "\n",
    "* A long tail toward the right, shows that while only a few films make huge profits, they skew the average upward.\n",
    "\n",
    "* This is known as a right-skewed distribution, common in industries with high risk and high reward (like the film industry)."
   ]
  },
  {
   "cell_type": "code",
   "execution_count": 562,
   "metadata": {},
   "outputs": [
    {
     "data": {
      "image/png": "[encoded data removed]",
      "text/plain": [
       "<Figure size 576x432 with 1 Axes>"
      ]
     },
     "metadata": {
      "needs_background": "light"
     },
     "output_type": "display_data"
    }
   ],
   "source": [
    "# Runtime vs Worldwide Gross\n",
    "\n",
    "plt.figure(figsize=(8,6))\n",
    "sns.scatterplot(data=clean_merged_df, x='runtime_minutes', y='worldwide_gross')\n",
    "plt.title('Runtime vs Worldwide Gross')\n",
    "plt.xlabel('Runtime (minutes)')\n",
    "plt.ylabel('Worldwide Gross ($)')\n",
    "plt.yscale('log')\n",
    "plt.tight_layout()\n",
    "plt.show()"
   ]
  },
  {
   "cell_type": "markdown",
   "metadata": {},
   "source": [
    "### From our scatter plot, we observe that:\n",
    "\n",
    "* Scatter points are usually spread widely across all runtime values.\n",
    "\n",
    "* A film’s length alone rarely predicts financial success.\n",
    "\n",
    "* Many high-grossing films tend to cluster around 100–140 minutes. This is the sweet spot where blockbusters, action, and adventure films typically fall."
   ]
  },
  {
   "cell_type": "code",
   "execution_count": 563,
   "metadata": {},
   "outputs": [
    {
     "data": {
      "image/png": "[encoded data removed]",
      "text/plain": [
       "<Figure size 576x432 with 1 Axes>"
      ]
     },
     "metadata": {
      "needs_background": "light"
     },
     "output_type": "display_data"
    }
   ],
   "source": [
    "# Profit vs Number of IMDb votes\n",
    "\n",
    "plt.figure(figsize=(8,6))\n",
    "sns.scatterplot(data=clean_merged_df, x='num_votes', y='profit')\n",
    "plt.title('Profit vs Number of IMDb Votes')\n",
    "plt.xlabel('Number of Votes')\n",
    "plt.ylabel('Profit ($)')\n",
    "plt.xscale('log')  # Votes can vary widely, so log-scale may help\n",
    "plt.tight_layout()\n",
    "plt.show()"
   ]
  },
  {
   "cell_type": "markdown",
   "metadata": {},
   "source": [
    "### From our observations, we find that:\n",
    "\n",
    "* Films with more IMDb votes tend to have higher profits.\n",
    "\n",
    "* More audience engagement (votes) often reflects wider viewership and box office success.\n",
    "\n",
    "* The points usually trend upwards as the number of votes increases.\n",
    "\n",
    "* Films with fewer votes (low popularity) show mixed profit outcomes — some lose money, while some gain.\n",
    "\n",
    "* Films with very high IMDb votes (i.e., >100,000) almost always have positive profits."
   ]
  },
  {
   "cell_type": "code",
   "execution_count": 564,
   "metadata": {},
   "outputs": [
    {
     "data": {
      "image/png": "[encoded data removed]",
      "text/plain": [
       "<Figure size 576x432 with 2 Axes>"
      ]
     },
     "metadata": {
      "needs_background": "light"
     },
     "output_type": "display_data"
    }
   ],
   "source": [
    "# Correlation Heatmap\n",
    "\n",
    "corr = clean_merged_df[['production_budget', 'runtime_minutes', 'release_year', 'worldwide_gross', 'profit']].corr()\n",
    "plt.figure(figsize=(8,6))\n",
    "sns.heatmap(corr, annot=True, cmap='coolwarm', fmt=\".2f\")\n",
    "plt.title('Correlation Heatmap')\n",
    "plt.tight_layout()\n",
    "plt.show()"
   ]
  },
  {
   "cell_type": "markdown",
   "metadata": {},
   "source": [
    "### From our correlation heatmap we are able to observe that: \n",
    "\n",
    "1. There is a strong Positive Correlation:\n",
    "\n",
    "* production_budget vs worldwide_gross: High Positive Correlation (~0.6 to 0.8)\n",
    "\n",
    "  Bigger budget films tend to earn higher worldwide gross — large-scale marketing, global releases, big-name casts drive this.\n",
    "\n",
    "* production_budget vs profit: Moderate Positive Correlation\n",
    "\n",
    "  Higher budgets may lead to higher profit, but not always guaranteed — profits also depend on cost control and reception.\n",
    "\n",
    "2. We have a very Strong Positive Correlation (close to 1.0)\n",
    "\n",
    "* worldwide_gross vs profit\n",
    "\n",
    "  Profit is largely driven by worldwide gross, as expected. This is natural since profit = worldwide gross - production budget.\n",
    "\n",
    "3. We also have a Weak or No Correlation:\n",
    "\n",
    "* runtime_minutes shows very low or negligible correlation with both profit and gross.\n",
    "\n",
    "  Confirms earlier finding: runtime does not significantly drive revenue or profit on its own.\n",
    "\n",
    "* release_year has low correlation with other variables.\n",
    "\n",
    "  Implies no strong trend over the years regarding budgets or profits in this dataset — unless the time window includes massive shifts (e.g., pandemic years).\n",
    "\n",
    "4. There is a possible Weak Positive Trend:\n",
    "\n",
    "   Sometimes release_year vs production_budget shows a slight positive correlation — indicating that film budgets have gradually risen over the years.\n",
    "\n"
   ]
  },
  {
   "cell_type": "markdown",
   "metadata": {},
   "source": [
    "### Recommendations"
   ]
  },
  {
   "cell_type": "code",
   "execution_count": 565,
   "metadata": {},
   "outputs": [
    {
     "name": "stdout",
     "output_type": "stream",
     "text": [
      "Recommendations:\n",
      "1. Focus on Action, Adventure, and Sci-Fi genres which have the highest gross and profit.\n",
      "2. Films with higher budgets generally earn more, but profit should be considered carefully.\n",
      "3. Optimal runtimes appear around 120-150 minutes for blockbuster success.\n",
      "4. Build hype early to raise IMDb vote count, improving engagement and potentially profit.\n"
     ]
    }
   ],
   "source": [
    "# 4. Recommendations Summary (based on data findings)\n",
    "\n",
    "print(\"Recommendations:\")\n",
    "print(\"1. Focus on Action, Adventure, and Sci-Fi genres which have the highest gross and profit.\")\n",
    "print(\"2. Films with higher budgets generally earn more, but profit should be considered carefully.\")\n",
    "print(\"3. Optimal runtimes appear around 120-150 minutes for blockbuster success.\")\n",
    "print(\"4. Build hype early to raise IMDb vote count, improving engagement and potentially profit.\")"
   ]
  }
 ],
 "metadata": {
  "kernelspec": {
   "display_name": "learn-env",
   "language": "python",
   "name": "python3"
  },
  "language_info": {
   "codemirror_mode": {
    "name": "ipython",
    "version": 3
   },
   "file_extension": ".py",
   "mimetype": "text/x-python",
   "name": "python",
   "nbconvert_exporter": "python",
   "pygments_lexer": "ipython3",
   "version": "3.8.5"
  }
 },
 "nbformat": 4,
 "nbformat_minor": 2
}
